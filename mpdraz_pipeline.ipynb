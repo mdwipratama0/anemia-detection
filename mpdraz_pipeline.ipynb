{
  "nbformat": 4,
  "nbformat_minor": 0,
  "metadata": {
    "colab": {
      "provenance": []
    },
    "kernelspec": {
      "name": "python3",
      "display_name": "Python 3"
    },
    "language_info": {
      "name": "python"
    }
  },
  "cells": [
    {
      "cell_type": "code",
      "execution_count": 4,
      "metadata": {
        "id": "2g-pjxXvHCUZ"
      },
      "outputs": [],
      "source": [
        "import os\n",
        "import pandas as pd\n",
        "import tensorflow_model_analysis as tfma\n",
        "from tfx.orchestration.beam.beam_dag_runner import BeamDagRunner\n",
        "from keras.utils import plot_model\n",
        "from modules.pipeline import initialize_local_pipeline\n",
        "from modules.components import initialize_components\n",
        "from tfx.components import Transform, Trainer, Tuner, Evaluator, Pusher\n",
        "from tfx.components import CsvExampleGen, StatisticsGen, SchemaGen, ExampleValidator\n",
        "from tfx.proto import example_gen_pb2, trainer_pb2, pusher_pb2\n",
        "from tfx.orchestration.experimental.interactive.interactive_context import InteractiveContext\n",
        "from tfx.dsl.components.common.resolver import Resolver\n",
        "from tfx.dsl.input_resolution.strategies.latest_blessed_model_strategy import LatestBlessedModelStrategy\n",
        "from tfx.types import Channel\n",
        "from tfx.types.standard_artifacts import Model, ModelBlessing"
      ]
    },
    {
      "cell_type": "code",
      "source": [
        "#!pip install tfx"
      ],
      "metadata": {
        "id": "e0JT0U37IQBV"
      },
      "execution_count": 2,
      "outputs": []
    },
    {
      "cell_type": "code",
      "source": [
        "PIPELANE_NAME = \"pipeline-anemia\"\n",
        "\n",
        "# Pipeline inputs\n",
        "DATA_ROOT = \"data\"\n",
        "TRANSFORM_MODULE_FILE = \"modules/transform.py\"\n",
        "TRAINER_MODULE_FILE = \"modules/trainer.py\"\n",
        "\n",
        "# Pipeline outputs\n",
        "OUTPUT_BASE = \"outputs\"\n",
        "\n",
        "serving_model_dir = os.path.join(OUTPUT_BASE, \"serving_model\")\n",
        "pipeline_root = os.path.join(OUTPUT_BASE, PIPELANE_NAME)\n",
        "metadata_path = os.path.join(pipeline_root, \"metadata.sqlite\")"
      ],
      "metadata": {
        "id": "DgU40T25v2wK"
      },
      "execution_count": 5,
      "outputs": []
    },
    {
      "cell_type": "code",
      "source": [
        "components = initialize_components(\n",
        "    data_dir=DATA_ROOT,\n",
        "    transform_module=TRANSFORM_MODULE_FILE,\n",
        "    training_module=TRAINER_MODULE_FILE,\n",
        "    training_steps=64,\n",
        "    eval_steps=64,\n",
        "    serving_model_dir=serving_model_dir\n",
        ")\n",
        "\n",
        "section = initialize_local_pipeline(components, pipeline_root)\n",
        "BeamDagRunner().run(section)"
      ],
      "metadata": {
        "colab": {
          "base_uri": "https://localhost:8080/",
          "height": 1000
        },
        "id": "M9U0tAEC3Ds3",
        "outputId": "da963c7d-c20a-4b72-eb93-9a4e7fb771f1"
      },
      "execution_count": 6,
      "outputs": [
        {
          "output_type": "stream",
          "name": "stderr",
          "text": [
            "WARNING:apache_beam.runners.interactive.interactive_environment:Dependencies required for Interactive Beam PCollection visualization are not available, please use: `pip install apache-beam[interactive]` to install necessary dependencies to enable all data visualization features.\n"
          ]
        },
        {
          "output_type": "display_data",
          "data": {
            "application/javascript": [
              "\n",
              "        if (typeof window.interactive_beam_jquery == 'undefined') {\n",
              "          var jqueryScript = document.createElement('script');\n",
              "          jqueryScript.src = 'https://code.jquery.com/jquery-3.4.1.slim.min.js';\n",
              "          jqueryScript.type = 'text/javascript';\n",
              "          jqueryScript.onload = function() {\n",
              "            var datatableScript = document.createElement('script');\n",
              "            datatableScript.src = 'https://cdn.datatables.net/1.10.20/js/jquery.dataTables.min.js';\n",
              "            datatableScript.type = 'text/javascript';\n",
              "            datatableScript.onload = function() {\n",
              "              window.interactive_beam_jquery = jQuery.noConflict(true);\n",
              "              window.interactive_beam_jquery(document).ready(function($){\n",
              "                \n",
              "              });\n",
              "            }\n",
              "            document.head.appendChild(datatableScript);\n",
              "          };\n",
              "          document.head.appendChild(jqueryScript);\n",
              "        } else {\n",
              "          window.interactive_beam_jquery(document).ready(function($){\n",
              "            \n",
              "          });\n",
              "        }"
            ]
          },
          "metadata": {}
        },
        {
          "output_type": "stream",
          "name": "stderr",
          "text": [
            "WARNING:apache_beam.io.tfrecordio:Couldn't find python-snappy so the implementation of _TFRecordUtil._masked_crc32c is not as fast as it could be.\n",
            "WARNING:absl:ArtifactQuery.property_predicate is not supported.\n",
            "WARNING:absl:ArtifactQuery.property_predicate is not supported.\n",
            "WARNING:absl:ArtifactQuery.property_predicate is not supported.\n",
            "WARNING:absl:ArtifactQuery.property_predicate is not supported.\n",
            "WARNING:absl:ArtifactQuery.property_predicate is not supported.\n",
            "WARNING:absl:ArtifactQuery.property_predicate is not supported.\n",
            "WARNING:absl:Tables initialized inside a tf.function  will be re-initialized on every invocation of the function. This  re-initialization can have significant impact on performance. Consider lifting  them out of the graph context using  `tf.init_scope`.: compute_and_apply_vocabulary/apply_vocab/text_file_init/InitializeTableFromTextFileV2\n",
            "WARNING:absl:Tables initialized inside a tf.function  will be re-initialized on every invocation of the function. This  re-initialization can have significant impact on performance. Consider lifting  them out of the graph context using  `tf.init_scope`.: compute_and_apply_vocabulary/apply_vocab/text_file_init/InitializeTableFromTextFileV2\n",
            "WARNING:absl:ArtifactQuery.property_predicate is not supported.\n",
            "WARNING:absl:ArtifactQuery.property_predicate is not supported.\n",
            "WARNING:absl:ArtifactQuery.property_predicate is not supported.\n",
            "WARNING:absl:Examples artifact does not have payload_format custom property. Falling back to FORMAT_TF_EXAMPLE\n",
            "WARNING:absl:Examples artifact does not have payload_format custom property. Falling back to FORMAT_TF_EXAMPLE\n",
            "WARNING:absl:Examples artifact does not have payload_format custom property. Falling back to FORMAT_TF_EXAMPLE\n",
            "WARNING:tensorflow:From /usr/local/lib/python3.10/dist-packages/tensorflow/python/data/experimental/ops/readers.py:1086: parse_example_dataset (from tensorflow.python.data.experimental.ops.parsing_ops) is deprecated and will be removed in a future version.\n",
            "Instructions for updating:\n",
            "Use `tf.data.Dataset.map(tf.io.parse_example(...))` instead.\n"
          ]
        },
        {
          "output_type": "stream",
          "name": "stdout",
          "text": [
            "Model: \"model\"\n",
            "__________________________________________________________________________________________________\n",
            " Layer (type)                Output Shape                 Param #   Connected to                  \n",
            "==================================================================================================\n",
            " Gender_xf (InputLayer)      [(None, 3)]                  0         []                            \n",
            "                                                                                                  \n",
            " Hemoglobin_xf (InputLayer)  [(None, 1)]                  0         []                            \n",
            "                                                                                                  \n",
            " MCH_xf (InputLayer)         [(None, 1)]                  0         []                            \n",
            "                                                                                                  \n",
            " MCHC_xf (InputLayer)        [(None, 1)]                  0         []                            \n",
            "                                                                                                  \n",
            " MCV_xf (InputLayer)         [(None, 1)]                  0         []                            \n",
            "                                                                                                  \n",
            " concatenate (Concatenate)   (None, 7)                    0         ['Gender_xf[0][0]',           \n",
            "                                                                     'Hemoglobin_xf[0][0]',       \n",
            "                                                                     'MCH_xf[0][0]',              \n",
            "                                                                     'MCHC_xf[0][0]',             \n",
            "                                                                     'MCV_xf[0][0]']              \n",
            "                                                                                                  \n",
            " dense (Dense)               (None, 256)                  2048      ['concatenate[0][0]']         \n",
            "                                                                                                  \n",
            " dense_1 (Dense)             (None, 64)                   16448     ['dense[0][0]']               \n",
            "                                                                                                  \n",
            " dense_2 (Dense)             (None, 16)                   1040      ['dense_1[0][0]']             \n",
            "                                                                                                  \n",
            " dense_3 (Dense)             (None, 1)                    17        ['dense_2[0][0]']             \n",
            "                                                                                                  \n",
            "==================================================================================================\n",
            "Total params: 19553 (76.38 KB)\n",
            "Trainable params: 19553 (76.38 KB)\n",
            "Non-trainable params: 0 (0.00 Byte)\n",
            "__________________________________________________________________________________________________\n",
            "Epoch 1/10\n",
            "64/64 [==============================] - 1s 9ms/step - loss: 0.5717 - binary_accuracy: 0.7375 - val_loss: 0.3924 - val_binary_accuracy: 0.9238\n",
            "Epoch 2/10\n",
            "64/64 [==============================] - 0s 5ms/step - loss: 0.2159 - binary_accuracy: 0.9614 - val_loss: 0.1116 - val_binary_accuracy: 0.9814\n",
            "Epoch 3/10\n",
            "64/64 [==============================] - 0s 5ms/step - loss: 0.0798 - binary_accuracy: 0.9883 - val_loss: 0.0659 - val_binary_accuracy: 0.9810\n",
            "Epoch 4/10\n",
            "64/64 [==============================] - 0s 6ms/step - loss: 0.0592 - binary_accuracy: 0.9856 - val_loss: 0.0583 - val_binary_accuracy: 0.9714\n",
            "Epoch 5/10\n",
            "64/64 [==============================] - 0s 5ms/step - loss: 0.0403 - binary_accuracy: 0.9932 - val_loss: 0.0517 - val_binary_accuracy: 0.9905\n",
            "Epoch 6/10\n",
            "64/64 [==============================] - 0s 6ms/step - loss: 0.0330 - binary_accuracy: 0.9937 - val_loss: 0.0597 - val_binary_accuracy: 0.9622\n",
            "Epoch 7/10\n",
            "64/64 [==============================] - 0s 5ms/step - loss: 0.0263 - binary_accuracy: 0.9968 - val_loss: 0.0502 - val_binary_accuracy: 0.9714\n",
            "Epoch 8/10\n",
            "64/64 [==============================] - 0s 5ms/step - loss: 0.0251 - binary_accuracy: 0.9941 - val_loss: 0.0636 - val_binary_accuracy: 0.9717\n",
            "Epoch 9/10\n",
            "64/64 [==============================] - 0s 5ms/step - loss: 0.0232 - binary_accuracy: 0.9946 - val_loss: 0.0754 - val_binary_accuracy: 0.9714\n",
            "Epoch 10/10\n",
            "64/64 [==============================] - 0s 5ms/step - loss: 0.0208 - binary_accuracy: 0.9944 - val_loss: 0.0775 - val_binary_accuracy: 0.9719\n"
          ]
        },
        {
          "output_type": "stream",
          "name": "stderr",
          "text": [
            "WARNING:absl:ArtifactQuery.property_predicate is not supported.\n",
            "WARNING:absl:ArtifactQuery.property_predicate is not supported.\n",
            "WARNING:tensorflow:From /usr/local/lib/python3.10/dist-packages/tensorflow_model_analysis/writers/metrics_plots_and_validations_writer.py:111: tf_record_iterator (from tensorflow.python.lib.io.tf_record) is deprecated and will be removed in a future version.\n",
            "Instructions for updating:\n",
            "Use eager execution and: \n",
            "`tf.data.TFRecordDataset(path)`\n",
            "WARNING:absl:ArtifactQuery.property_predicate is not supported.\n",
            "WARNING:absl:ArtifactQuery.property_predicate is not supported.\n"
          ]
        }
      ]
    },
    {
      "cell_type": "code",
      "source": [
        "!pip freeze >> requirements.txt"
      ],
      "metadata": {
        "id": "8whE7yjJktaq"
      },
      "execution_count": 7,
      "outputs": []
    },
    {
      "cell_type": "code",
      "source": [
        "!zip -r /content/outputs.zip /content/outputs"
      ],
      "metadata": {
        "colab": {
          "base_uri": "https://localhost:8080/"
        },
        "id": "Kk_Hm4Kt4aGy",
        "outputId": "e46cfa71-e396-4edd-85e2-8284660249f0"
      },
      "execution_count": 9,
      "outputs": [
        {
          "output_type": "stream",
          "name": "stdout",
          "text": [
            "  adding: content/outputs/ (stored 0%)\n",
            "  adding: content/outputs/serving_model/ (stored 0%)\n",
            "  adding: content/outputs/serving_model/1708824289/ (stored 0%)\n",
            "  adding: content/outputs/serving_model/1708824289/keras_metadata.pb (deflated 89%)\n",
            "  adding: content/outputs/serving_model/1708824289/saved_model.pb (deflated 86%)\n",
            "  adding: content/outputs/serving_model/1708824289/assets/ (stored 0%)\n",
            "  adding: content/outputs/serving_model/1708824289/assets/vocab_compute_and_apply_vocabulary_vocabulary (deflated 17%)\n",
            "  adding: content/outputs/serving_model/1708824289/variables/ (stored 0%)\n",
            "  adding: content/outputs/serving_model/1708824289/variables/variables.index (deflated 61%)\n",
            "  adding: content/outputs/serving_model/1708824289/variables/variables.data-00000-of-00001 (deflated 18%)\n",
            "  adding: content/outputs/serving_model/1708824289/fingerprint.pb (stored 0%)\n",
            "  adding: content/outputs/pipeline-anemia/ (stored 0%)\n",
            "  adding: content/outputs/pipeline-anemia/ExampleValidator/ (stored 0%)\n",
            "  adding: content/outputs/pipeline-anemia/ExampleValidator/anomalies/ (stored 0%)\n",
            "  adding: content/outputs/pipeline-anemia/ExampleValidator/anomalies/5/ (stored 0%)\n",
            "  adding: content/outputs/pipeline-anemia/ExampleValidator/anomalies/5/Split-train/ (stored 0%)\n",
            "  adding: content/outputs/pipeline-anemia/ExampleValidator/anomalies/5/Split-train/SchemaDiff.pb (deflated 53%)\n",
            "  adding: content/outputs/pipeline-anemia/ExampleValidator/anomalies/5/Split-eval/ (stored 0%)\n",
            "  adding: content/outputs/pipeline-anemia/ExampleValidator/anomalies/5/Split-eval/SchemaDiff.pb (deflated 53%)\n",
            "  adding: content/outputs/pipeline-anemia/ExampleValidator/.system/ (stored 0%)\n",
            "  adding: content/outputs/pipeline-anemia/ExampleValidator/.system/executor_execution/ (stored 0%)\n",
            "  adding: content/outputs/pipeline-anemia/ExampleValidator/.system/executor_execution/5/ (stored 0%)\n",
            "  adding: content/outputs/pipeline-anemia/Trainer/ (stored 0%)\n",
            "  adding: content/outputs/pipeline-anemia/Trainer/model_run/ (stored 0%)\n",
            "  adding: content/outputs/pipeline-anemia/Trainer/model_run/7/ (stored 0%)\n",
            "  adding: content/outputs/pipeline-anemia/Trainer/.system/ (stored 0%)\n",
            "  adding: content/outputs/pipeline-anemia/Trainer/.system/executor_execution/ (stored 0%)\n",
            "  adding: content/outputs/pipeline-anemia/Trainer/.system/executor_execution/7/ (stored 0%)\n",
            "  adding: content/outputs/pipeline-anemia/Trainer/model/ (stored 0%)\n",
            "  adding: content/outputs/pipeline-anemia/Trainer/model/7/ (stored 0%)\n",
            "  adding: content/outputs/pipeline-anemia/Trainer/model/7/logs/ (stored 0%)\n",
            "  adding: content/outputs/pipeline-anemia/Trainer/model/7/logs/validation/ (stored 0%)\n",
            "  adding: content/outputs/pipeline-anemia/Trainer/model/7/logs/validation/events.out.tfevents.1708824275.1dd3b7a08377.117.1.v2 (deflated 73%)\n",
            "  adding: content/outputs/pipeline-anemia/Trainer/model/7/logs/train/ (stored 0%)\n",
            "  adding: content/outputs/pipeline-anemia/Trainer/model/7/logs/train/events.out.tfevents.1708824273.1dd3b7a08377.117.0.v2 (deflated 82%)\n",
            "  adding: content/outputs/pipeline-anemia/Trainer/model/7/Format-Serving/ (stored 0%)\n",
            "  adding: content/outputs/pipeline-anemia/Trainer/model/7/Format-Serving/keras_metadata.pb (deflated 89%)\n",
            "  adding: content/outputs/pipeline-anemia/Trainer/model/7/Format-Serving/saved_model.pb (deflated 86%)\n",
            "  adding: content/outputs/pipeline-anemia/Trainer/model/7/Format-Serving/assets/ (stored 0%)\n",
            "  adding: content/outputs/pipeline-anemia/Trainer/model/7/Format-Serving/assets/vocab_compute_and_apply_vocabulary_vocabulary (deflated 17%)\n",
            "  adding: content/outputs/pipeline-anemia/Trainer/model/7/Format-Serving/variables/ (stored 0%)\n",
            "  adding: content/outputs/pipeline-anemia/Trainer/model/7/Format-Serving/variables/variables.index (deflated 61%)\n",
            "  adding: content/outputs/pipeline-anemia/Trainer/model/7/Format-Serving/variables/variables.data-00000-of-00001 (deflated 18%)\n",
            "  adding: content/outputs/pipeline-anemia/Trainer/model/7/Format-Serving/fingerprint.pb (stored 0%)\n",
            "  adding: content/outputs/pipeline-anemia/Transform/ (stored 0%)\n",
            "  adding: content/outputs/pipeline-anemia/Transform/transformed_examples/ (stored 0%)\n",
            "  adding: content/outputs/pipeline-anemia/Transform/transformed_examples/6/ (stored 0%)\n",
            "  adding: content/outputs/pipeline-anemia/Transform/transformed_examples/6/Split-train/ (stored 0%)\n",
            "  adding: content/outputs/pipeline-anemia/Transform/transformed_examples/6/Split-train/transformed_examples-00000-of-00001.gz (stored 0%)\n",
            "  adding: content/outputs/pipeline-anemia/Transform/transformed_examples/6/Split-eval/ (stored 0%)\n",
            "  adding: content/outputs/pipeline-anemia/Transform/transformed_examples/6/Split-eval/transformed_examples-00000-of-00001.gz (stored 0%)\n",
            "  adding: content/outputs/pipeline-anemia/Transform/transform_graph/ (stored 0%)\n",
            "  adding: content/outputs/pipeline-anemia/Transform/transform_graph/6/ (stored 0%)\n",
            "  adding: content/outputs/pipeline-anemia/Transform/transform_graph/6/transformed_metadata/ (stored 0%)\n",
            "  adding: content/outputs/pipeline-anemia/Transform/transform_graph/6/transformed_metadata/asset_map (deflated 57%)\n",
            "  adding: content/outputs/pipeline-anemia/Transform/transform_graph/6/transformed_metadata/schema.pbtxt (deflated 81%)\n",
            "  adding: content/outputs/pipeline-anemia/Transform/transform_graph/6/transform_fn/ (stored 0%)\n",
            "  adding: content/outputs/pipeline-anemia/Transform/transform_graph/6/transform_fn/saved_model.pb (deflated 83%)\n",
            "  adding: content/outputs/pipeline-anemia/Transform/transform_graph/6/transform_fn/assets/ (stored 0%)\n",
            "  adding: content/outputs/pipeline-anemia/Transform/transform_graph/6/transform_fn/assets/vocab_compute_and_apply_vocabulary_vocabulary (deflated 17%)\n",
            "  adding: content/outputs/pipeline-anemia/Transform/transform_graph/6/transform_fn/variables/ (stored 0%)\n",
            "  adding: content/outputs/pipeline-anemia/Transform/transform_graph/6/transform_fn/variables/variables.index (deflated 33%)\n",
            "  adding: content/outputs/pipeline-anemia/Transform/transform_graph/6/transform_fn/variables/variables.data-00000-of-00001 (deflated 61%)\n",
            "  adding: content/outputs/pipeline-anemia/Transform/transform_graph/6/transform_fn/fingerprint.pb (stored 0%)\n",
            "  adding: content/outputs/pipeline-anemia/Transform/transform_graph/6/metadata/ (stored 0%)\n",
            "  adding: content/outputs/pipeline-anemia/Transform/transform_graph/6/metadata/schema.pbtxt (deflated 79%)\n",
            "  adding: content/outputs/pipeline-anemia/Transform/updated_analyzer_cache/ (stored 0%)\n",
            "  adding: content/outputs/pipeline-anemia/Transform/updated_analyzer_cache/6/ (stored 0%)\n",
            "  adding: content/outputs/pipeline-anemia/Transform/updated_analyzer_cache/6/pipeline-anemia-CsvExampleGen-examples-2-Split-train-STAR-21daceba43e8e10a5bc076f76f14163d363731943c71c5100c5a21a923cb2ab6/ (stored 0%)\n",
            "  adding: content/outputs/pipeline-anemia/Transform/updated_analyzer_cache/6/pipeline-anemia-CsvExampleGen-examples-2-Split-train-STAR-21daceba43e8e10a5bc076f76f14163d363731943c71c5100c5a21a923cb2ab6/0-00000-of-00001.gz (deflated 2%)\n",
            "  adding: content/outputs/pipeline-anemia/Transform/updated_analyzer_cache/6/pipeline-anemia-CsvExampleGen-examples-2-Split-train-STAR-21daceba43e8e10a5bc076f76f14163d363731943c71c5100c5a21a923cb2ab6/2-00000-of-00001.gz (deflated 4%)\n",
            "  adding: content/outputs/pipeline-anemia/Transform/updated_analyzer_cache/6/pipeline-anemia-CsvExampleGen-examples-2-Split-train-STAR-21daceba43e8e10a5bc076f76f14163d363731943c71c5100c5a21a923cb2ab6/MANIFEST (deflated 44%)\n",
            "  adding: content/outputs/pipeline-anemia/Transform/updated_analyzer_cache/6/pipeline-anemia-CsvExampleGen-examples-2-Split-train-STAR-21daceba43e8e10a5bc076f76f14163d363731943c71c5100c5a21a923cb2ab6/3-00000-of-00001.gz (deflated 2%)\n",
            "  adding: content/outputs/pipeline-anemia/Transform/updated_analyzer_cache/6/pipeline-anemia-CsvExampleGen-examples-2-Split-train-STAR-21daceba43e8e10a5bc076f76f14163d363731943c71c5100c5a21a923cb2ab6/1-00000-of-00001.gz (deflated 2%)\n",
            "  adding: content/outputs/pipeline-anemia/Transform/updated_analyzer_cache/6/pipeline-anemia-CsvExampleGen-examples-2-Split-train-STAR-21daceba43e8e10a5bc076f76f14163d363731943c71c5100c5a21a923cb2ab6/4-00000-of-00001.gz (deflated 1%)\n",
            "  adding: content/outputs/pipeline-anemia/Transform/updated_analyzer_cache/6/pipeline-anemia-CsvExampleGen-examples-2-Split-train-STAR-21daceba43e8e10a5bc076f76f14163d363731943c71c5100c5a21a923cb2ab6/METADATA-00000-of-00001 (deflated 6%)\n",
            "  adding: content/outputs/pipeline-anemia/Transform/pre_transform_stats/ (stored 0%)\n",
            "  adding: content/outputs/pipeline-anemia/Transform/pre_transform_stats/6/ (stored 0%)\n",
            "  adding: content/outputs/pipeline-anemia/Transform/pre_transform_stats/6/FeatureStats.pb (deflated 69%)\n",
            "  adding: content/outputs/pipeline-anemia/Transform/post_transform_schema/ (stored 0%)\n",
            "  adding: content/outputs/pipeline-anemia/Transform/post_transform_schema/6/ (stored 0%)\n",
            "  adding: content/outputs/pipeline-anemia/Transform/post_transform_schema/6/schema.pbtxt (deflated 81%)\n",
            "  adding: content/outputs/pipeline-anemia/Transform/.system/ (stored 0%)\n",
            "  adding: content/outputs/pipeline-anemia/Transform/.system/executor_execution/ (stored 0%)\n",
            "  adding: content/outputs/pipeline-anemia/Transform/.system/executor_execution/6/ (stored 0%)\n",
            "  adding: content/outputs/pipeline-anemia/Transform/post_transform_anomalies/ (stored 0%)\n",
            "  adding: content/outputs/pipeline-anemia/Transform/post_transform_anomalies/6/ (stored 0%)\n",
            "  adding: content/outputs/pipeline-anemia/Transform/post_transform_anomalies/6/SchemaDiff.pb (deflated 56%)\n",
            "  adding: content/outputs/pipeline-anemia/Transform/pre_transform_schema/ (stored 0%)\n",
            "  adding: content/outputs/pipeline-anemia/Transform/pre_transform_schema/6/ (stored 0%)\n",
            "  adding: content/outputs/pipeline-anemia/Transform/pre_transform_schema/6/schema.pbtxt (deflated 79%)\n",
            "  adding: content/outputs/pipeline-anemia/Transform/post_transform_stats/ (stored 0%)\n",
            "  adding: content/outputs/pipeline-anemia/Transform/post_transform_stats/6/ (stored 0%)\n",
            "  adding: content/outputs/pipeline-anemia/Transform/post_transform_stats/6/FeatureStats.pb (deflated 75%)\n",
            "  adding: content/outputs/pipeline-anemia/Evaluator/ (stored 0%)\n",
            "  adding: content/outputs/pipeline-anemia/Evaluator/.system/ (stored 0%)\n",
            "  adding: content/outputs/pipeline-anemia/Evaluator/.system/executor_execution/ (stored 0%)\n",
            "  adding: content/outputs/pipeline-anemia/Evaluator/.system/executor_execution/8/ (stored 0%)\n",
            "  adding: content/outputs/pipeline-anemia/Evaluator/blessing/ (stored 0%)\n",
            "  adding: content/outputs/pipeline-anemia/Evaluator/blessing/8/ (stored 0%)\n",
            "  adding: content/outputs/pipeline-anemia/Evaluator/blessing/8/BLESSED (stored 0%)\n",
            "  adding: content/outputs/pipeline-anemia/Evaluator/evaluation/ (stored 0%)\n",
            "  adding: content/outputs/pipeline-anemia/Evaluator/evaluation/8/ (stored 0%)\n",
            "  adding: content/outputs/pipeline-anemia/Evaluator/evaluation/8/metrics-00000-of-00001.tfrecord (deflated 58%)\n",
            "  adding: content/outputs/pipeline-anemia/Evaluator/evaluation/8/attributions-00000-of-00001.tfrecord (deflated 24%)\n",
            "  adding: content/outputs/pipeline-anemia/Evaluator/evaluation/8/eval_config.json (deflated 63%)\n",
            "  adding: content/outputs/pipeline-anemia/Evaluator/evaluation/8/validations.tfrecord (deflated 8%)\n",
            "  adding: content/outputs/pipeline-anemia/Evaluator/evaluation/8/plots-00000-of-00001.tfrecord (deflated 24%)\n",
            "  adding: content/outputs/pipeline-anemia/metadata.sqlite (deflated 94%)\n",
            "  adding: content/outputs/pipeline-anemia/SchemaGen/ (stored 0%)\n",
            "  adding: content/outputs/pipeline-anemia/SchemaGen/schema/ (stored 0%)\n",
            "  adding: content/outputs/pipeline-anemia/SchemaGen/schema/4/ (stored 0%)\n",
            "  adding: content/outputs/pipeline-anemia/SchemaGen/schema/4/schema.pbtxt (deflated 79%)\n",
            "  adding: content/outputs/pipeline-anemia/SchemaGen/.system/ (stored 0%)\n",
            "  adding: content/outputs/pipeline-anemia/SchemaGen/.system/executor_execution/ (stored 0%)\n",
            "  adding: content/outputs/pipeline-anemia/SchemaGen/.system/executor_execution/4/ (stored 0%)\n",
            "  adding: content/outputs/pipeline-anemia/_wheels/ (stored 0%)\n",
            "  adding: content/outputs/pipeline-anemia/_wheels/tfx_user_code_Transform-0.0+418f8c1cbbcdf10b26cb62673fbda260c3ef41baa90708c04a07648ef07f653e-py3-none-any.whl (deflated 19%)\n",
            "  adding: content/outputs/pipeline-anemia/_wheels/tfx_user_code_Trainer-0.0+418f8c1cbbcdf10b26cb62673fbda260c3ef41baa90708c04a07648ef07f653e-py3-none-any.whl (deflated 18%)\n",
            "  adding: content/outputs/pipeline-anemia/Pusher/ (stored 0%)\n",
            "  adding: content/outputs/pipeline-anemia/Pusher/.system/ (stored 0%)\n",
            "  adding: content/outputs/pipeline-anemia/Pusher/.system/executor_execution/ (stored 0%)\n",
            "  adding: content/outputs/pipeline-anemia/Pusher/.system/executor_execution/9/ (stored 0%)\n",
            "  adding: content/outputs/pipeline-anemia/Pusher/pushed_model/ (stored 0%)\n",
            "  adding: content/outputs/pipeline-anemia/Pusher/pushed_model/9/ (stored 0%)\n",
            "  adding: content/outputs/pipeline-anemia/Pusher/pushed_model/9/keras_metadata.pb (deflated 89%)\n",
            "  adding: content/outputs/pipeline-anemia/Pusher/pushed_model/9/saved_model.pb (deflated 86%)\n",
            "  adding: content/outputs/pipeline-anemia/Pusher/pushed_model/9/assets/ (stored 0%)\n",
            "  adding: content/outputs/pipeline-anemia/Pusher/pushed_model/9/assets/vocab_compute_and_apply_vocabulary_vocabulary (deflated 17%)\n",
            "  adding: content/outputs/pipeline-anemia/Pusher/pushed_model/9/variables/ (stored 0%)\n",
            "  adding: content/outputs/pipeline-anemia/Pusher/pushed_model/9/variables/variables.index (deflated 61%)\n",
            "  adding: content/outputs/pipeline-anemia/Pusher/pushed_model/9/variables/variables.data-00000-of-00001 (deflated 18%)\n",
            "  adding: content/outputs/pipeline-anemia/Pusher/pushed_model/9/fingerprint.pb (stored 0%)\n",
            "  adding: content/outputs/pipeline-anemia/CsvExampleGen/ (stored 0%)\n",
            "  adding: content/outputs/pipeline-anemia/CsvExampleGen/examples/ (stored 0%)\n",
            "  adding: content/outputs/pipeline-anemia/CsvExampleGen/examples/2/ (stored 0%)\n",
            "  adding: content/outputs/pipeline-anemia/CsvExampleGen/examples/2/Split-train/ (stored 0%)\n",
            "  adding: content/outputs/pipeline-anemia/CsvExampleGen/examples/2/Split-train/data_tfrecord-00000-of-00001.gz (stored 0%)\n",
            "  adding: content/outputs/pipeline-anemia/CsvExampleGen/examples/2/Split-eval/ (stored 0%)\n",
            "  adding: content/outputs/pipeline-anemia/CsvExampleGen/examples/2/Split-eval/data_tfrecord-00000-of-00001.gz (stored 0%)\n",
            "  adding: content/outputs/pipeline-anemia/CsvExampleGen/.system/ (stored 0%)\n",
            "  adding: content/outputs/pipeline-anemia/CsvExampleGen/.system/driver_execution/ (stored 0%)\n",
            "  adding: content/outputs/pipeline-anemia/CsvExampleGen/.system/driver_execution/1708824239283732/ (stored 0%)\n",
            "  adding: content/outputs/pipeline-anemia/CsvExampleGen/.system/executor_execution/ (stored 0%)\n",
            "  adding: content/outputs/pipeline-anemia/CsvExampleGen/.system/executor_execution/2/ (stored 0%)\n",
            "  adding: content/outputs/pipeline-anemia/StatisticsGen/ (stored 0%)\n",
            "  adding: content/outputs/pipeline-anemia/StatisticsGen/.system/ (stored 0%)\n",
            "  adding: content/outputs/pipeline-anemia/StatisticsGen/.system/executor_execution/ (stored 0%)\n",
            "  adding: content/outputs/pipeline-anemia/StatisticsGen/.system/executor_execution/3/ (stored 0%)\n",
            "  adding: content/outputs/pipeline-anemia/StatisticsGen/statistics/ (stored 0%)\n",
            "  adding: content/outputs/pipeline-anemia/StatisticsGen/statistics/3/ (stored 0%)\n",
            "  adding: content/outputs/pipeline-anemia/StatisticsGen/statistics/3/Split-train/ (stored 0%)\n",
            "  adding: content/outputs/pipeline-anemia/StatisticsGen/statistics/3/Split-train/FeatureStats.pb (deflated 70%)\n",
            "  adding: content/outputs/pipeline-anemia/StatisticsGen/statistics/3/Split-eval/ (stored 0%)\n",
            "  adding: content/outputs/pipeline-anemia/StatisticsGen/statistics/3/Split-eval/FeatureStats.pb (deflated 70%)\n"
          ]
        }
      ]
    },
    {
      "cell_type": "code",
      "source": [],
      "metadata": {
        "id": "vJWtsTp24nzq"
      },
      "execution_count": null,
      "outputs": []
    }
  ]
}